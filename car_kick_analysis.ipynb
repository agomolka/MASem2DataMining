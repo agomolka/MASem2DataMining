{
 "cells": [
  {
   "cell_type": "code",
   "execution_count": 1,
   "id": "a1b77448",
   "metadata": {},
   "outputs": [],
   "source": [
    "import pandas as pd\n",
    "import datetime\n",
    "import matplotlib.pyplot as plt\n",
    "import seaborn as sns"
   ]
  },
  {
   "cell_type": "code",
   "execution_count": 2,
   "id": "0c00e268",
   "metadata": {},
   "outputs": [],
   "source": [
    "car_kick = pd.read_csv(\"data/car_kick.csv\")"
   ]
  },
  {
   "cell_type": "code",
   "execution_count": 3,
   "id": "3b405220",
   "metadata": {},
   "outputs": [
    {
     "data": {
      "text/html": [
       "<div>\n",
       "<style scoped>\n",
       "    .dataframe tbody tr th:only-of-type {\n",
       "        vertical-align: middle;\n",
       "    }\n",
       "\n",
       "    .dataframe tbody tr th {\n",
       "        vertical-align: top;\n",
       "    }\n",
       "\n",
       "    .dataframe thead th {\n",
       "        text-align: right;\n",
       "    }\n",
       "</style>\n",
       "<table border=\"1\" class=\"dataframe\">\n",
       "  <thead>\n",
       "    <tr style=\"text-align: right;\">\n",
       "      <th></th>\n",
       "      <th>PurchDate</th>\n",
       "      <th>VehYear</th>\n",
       "      <th>VehicleAge</th>\n",
       "      <th>VehOdo</th>\n",
       "      <th>MMRAcquisitionAuctionAveragePrice</th>\n",
       "      <th>MMRAcquisitionAuctionCleanPrice</th>\n",
       "      <th>MMRAcquisitionRetailAveragePrice</th>\n",
       "      <th>MMRAcquisitonRetailCleanPrice</th>\n",
       "      <th>MMRCurrentAuctionAveragePrice</th>\n",
       "      <th>MMRCurrentAuctionCleanPrice</th>\n",
       "      <th>...</th>\n",
       "      <th>WheelTypeID</th>\n",
       "      <th>WheelType</th>\n",
       "      <th>Nationality</th>\n",
       "      <th>Size</th>\n",
       "      <th>TopThreeAmericanName</th>\n",
       "      <th>BYRNO</th>\n",
       "      <th>VNZIP1</th>\n",
       "      <th>VNST</th>\n",
       "      <th>IsOnlineSale</th>\n",
       "      <th>Class</th>\n",
       "    </tr>\n",
       "  </thead>\n",
       "  <tbody>\n",
       "    <tr>\n",
       "      <th>0</th>\n",
       "      <td>1.289952e+09</td>\n",
       "      <td>2006.0</td>\n",
       "      <td>4</td>\n",
       "      <td>51954.0</td>\n",
       "      <td>6197.0</td>\n",
       "      <td>7062.0</td>\n",
       "      <td>9605.0</td>\n",
       "      <td>10426.0</td>\n",
       "      <td>5341.0</td>\n",
       "      <td>6351.0</td>\n",
       "      <td>...</td>\n",
       "      <td>2.0</td>\n",
       "      <td>Covers</td>\n",
       "      <td>AMERICAN</td>\n",
       "      <td>MEDIUM</td>\n",
       "      <td>CHRYSLER</td>\n",
       "      <td>99750</td>\n",
       "      <td>32124</td>\n",
       "      <td>FL</td>\n",
       "      <td>0</td>\n",
       "      <td>0</td>\n",
       "    </tr>\n",
       "    <tr>\n",
       "      <th>1</th>\n",
       "      <td>1.242691e+09</td>\n",
       "      <td>2005.0</td>\n",
       "      <td>4</td>\n",
       "      <td>89127.0</td>\n",
       "      <td>3688.0</td>\n",
       "      <td>4783.0</td>\n",
       "      <td>4483.0</td>\n",
       "      <td>5666.0</td>\n",
       "      <td>3688.0</td>\n",
       "      <td>4783.0</td>\n",
       "      <td>...</td>\n",
       "      <td>2.0</td>\n",
       "      <td>Covers</td>\n",
       "      <td>AMERICAN</td>\n",
       "      <td>MEDIUM</td>\n",
       "      <td>FORD</td>\n",
       "      <td>20833</td>\n",
       "      <td>78754</td>\n",
       "      <td>TX</td>\n",
       "      <td>0</td>\n",
       "      <td>0</td>\n",
       "    </tr>\n",
       "    <tr>\n",
       "      <th>2</th>\n",
       "      <td>1.248221e+09</td>\n",
       "      <td>2006.0</td>\n",
       "      <td>3</td>\n",
       "      <td>71271.0</td>\n",
       "      <td>6897.0</td>\n",
       "      <td>8449.0</td>\n",
       "      <td>7949.0</td>\n",
       "      <td>9625.0</td>\n",
       "      <td>6868.0</td>\n",
       "      <td>8549.0</td>\n",
       "      <td>...</td>\n",
       "      <td>1.0</td>\n",
       "      <td>Alloy</td>\n",
       "      <td>AMERICAN</td>\n",
       "      <td>LARGE</td>\n",
       "      <td>GM</td>\n",
       "      <td>22916</td>\n",
       "      <td>80011</td>\n",
       "      <td>CO</td>\n",
       "      <td>0</td>\n",
       "      <td>0</td>\n",
       "    </tr>\n",
       "    <tr>\n",
       "      <th>3</th>\n",
       "      <td>1.285718e+09</td>\n",
       "      <td>2008.0</td>\n",
       "      <td>2</td>\n",
       "      <td>83338.0</td>\n",
       "      <td>7878.0</td>\n",
       "      <td>8925.0</td>\n",
       "      <td>11723.0</td>\n",
       "      <td>13026.0</td>\n",
       "      <td>7801.0</td>\n",
       "      <td>8704.0</td>\n",
       "      <td>...</td>\n",
       "      <td>2.0</td>\n",
       "      <td>Covers</td>\n",
       "      <td>AMERICAN</td>\n",
       "      <td>LARGE</td>\n",
       "      <td>GM</td>\n",
       "      <td>23657</td>\n",
       "      <td>94544</td>\n",
       "      <td>CA</td>\n",
       "      <td>0</td>\n",
       "      <td>0</td>\n",
       "    </tr>\n",
       "    <tr>\n",
       "      <th>4</th>\n",
       "      <td>1.237334e+09</td>\n",
       "      <td>2007.0</td>\n",
       "      <td>2</td>\n",
       "      <td>58698.0</td>\n",
       "      <td>8800.0</td>\n",
       "      <td>10091.0</td>\n",
       "      <td>10004.0</td>\n",
       "      <td>11398.0</td>\n",
       "      <td>7355.0</td>\n",
       "      <td>8543.0</td>\n",
       "      <td>...</td>\n",
       "      <td>1.0</td>\n",
       "      <td>Alloy</td>\n",
       "      <td>AMERICAN</td>\n",
       "      <td>LARGE</td>\n",
       "      <td>GM</td>\n",
       "      <td>20833</td>\n",
       "      <td>77086</td>\n",
       "      <td>TX</td>\n",
       "      <td>0</td>\n",
       "      <td>0</td>\n",
       "    </tr>\n",
       "  </tbody>\n",
       "</table>\n",
       "<p>5 rows × 31 columns</p>\n",
       "</div>"
      ],
      "text/plain": [
       "      PurchDate  VehYear  VehicleAge   VehOdo  \\\n",
       "0  1.289952e+09   2006.0           4  51954.0   \n",
       "1  1.242691e+09   2005.0           4  89127.0   \n",
       "2  1.248221e+09   2006.0           3  71271.0   \n",
       "3  1.285718e+09   2008.0           2  83338.0   \n",
       "4  1.237334e+09   2007.0           2  58698.0   \n",
       "\n",
       "   MMRAcquisitionAuctionAveragePrice  MMRAcquisitionAuctionCleanPrice  \\\n",
       "0                             6197.0                           7062.0   \n",
       "1                             3688.0                           4783.0   \n",
       "2                             6897.0                           8449.0   \n",
       "3                             7878.0                           8925.0   \n",
       "4                             8800.0                          10091.0   \n",
       "\n",
       "   MMRAcquisitionRetailAveragePrice  MMRAcquisitonRetailCleanPrice  \\\n",
       "0                            9605.0                        10426.0   \n",
       "1                            4483.0                         5666.0   \n",
       "2                            7949.0                         9625.0   \n",
       "3                           11723.0                        13026.0   \n",
       "4                           10004.0                        11398.0   \n",
       "\n",
       "   MMRCurrentAuctionAveragePrice  MMRCurrentAuctionCleanPrice  ...  \\\n",
       "0                         5341.0                       6351.0  ...   \n",
       "1                         3688.0                       4783.0  ...   \n",
       "2                         6868.0                       8549.0  ...   \n",
       "3                         7801.0                       8704.0  ...   \n",
       "4                         7355.0                       8543.0  ...   \n",
       "\n",
       "   WheelTypeID  WheelType  Nationality    Size TopThreeAmericanName  BYRNO  \\\n",
       "0          2.0     Covers     AMERICAN  MEDIUM             CHRYSLER  99750   \n",
       "1          2.0     Covers     AMERICAN  MEDIUM                 FORD  20833   \n",
       "2          1.0      Alloy     AMERICAN   LARGE                   GM  22916   \n",
       "3          2.0     Covers     AMERICAN   LARGE                   GM  23657   \n",
       "4          1.0      Alloy     AMERICAN   LARGE                   GM  20833   \n",
       "\n",
       "  VNZIP1 VNST IsOnlineSale Class  \n",
       "0  32124   FL            0     0  \n",
       "1  78754   TX            0     0  \n",
       "2  80011   CO            0     0  \n",
       "3  94544   CA            0     0  \n",
       "4  77086   TX            0     0  \n",
       "\n",
       "[5 rows x 31 columns]"
      ]
     },
     "execution_count": 3,
     "metadata": {},
     "output_type": "execute_result"
    }
   ],
   "source": [
    "car_kick.head()"
   ]
  },
  {
   "cell_type": "code",
   "execution_count": 4,
   "id": "04c70849",
   "metadata": {},
   "outputs": [
    {
     "data": {
      "text/plain": [
       "Index(['PurchDate', 'VehYear', 'VehicleAge', 'VehOdo',\n",
       "       'MMRAcquisitionAuctionAveragePrice', 'MMRAcquisitionAuctionCleanPrice',\n",
       "       'MMRAcquisitionRetailAveragePrice', 'MMRAcquisitonRetailCleanPrice',\n",
       "       'MMRCurrentAuctionAveragePrice', 'MMRCurrentAuctionCleanPrice',\n",
       "       'MMRCurrentRetailAveragePrice', 'MMRCurrentRetailCleanPrice',\n",
       "       'VehBCost', 'WarrantyCost', 'Auction', 'Make', 'Model', 'Trim',\n",
       "       'SubModel', 'Color', 'Transmission', 'WheelTypeID', 'WheelType',\n",
       "       'Nationality', 'Size', 'TopThreeAmericanName', 'BYRNO', 'VNZIP1',\n",
       "       'VNST', 'IsOnlineSale', 'Class'],\n",
       "      dtype='object')"
      ]
     },
     "execution_count": 4,
     "metadata": {},
     "output_type": "execute_result"
    }
   ],
   "source": [
    "car_kick.columns"
   ]
  },
  {
   "cell_type": "markdown",
   "id": "728aa888",
   "metadata": {},
   "source": [
    "# Class - Class of the car (target variable)"
   ]
  },
  {
   "cell_type": "code",
   "execution_count": 5,
   "id": "89716e1c",
   "metadata": {},
   "outputs": [
    {
     "data": {
      "text/plain": [
       "<AxesSubplot:title={'center':'Class- Class of the car (Target Variable)'}, ylabel='Class'>"
      ]
     },
     "execution_count": 5,
     "metadata": {},
     "output_type": "execute_result"
    },
    {
     "data": {
      "image/png": "[encoded data removed]",
      "text/plain": [
       "<Figure size 640x480 with 1 Axes>"
      ]
     },
     "metadata": {},
     "output_type": "display_data"
    }
   ],
   "source": [
    "car_kick['Class'].value_counts().plot.pie(autopct='%1.1f%%', shadow=True, title=\"Class- Class of the car (Target Variable)\")"
   ]
  },
  {
   "cell_type": "code",
   "execution_count": 6,
   "id": "3ae2abdb",
   "metadata": {},
   "outputs": [],
   "source": [
    "#The dataset is imbalanced"
   ]
  },
  {
   "cell_type": "markdown",
   "id": "7c631acc",
   "metadata": {},
   "source": [
    "# PurchDate - Purchase Date"
   ]
  },
  {
   "cell_type": "code",
   "execution_count": 7,
   "id": "91e35666",
   "metadata": {},
   "outputs": [],
   "source": [
    "car_kick['PurchDate'] =  pd.to_datetime(car_kick['PurchDate']) "
   ]
  },
  {
   "cell_type": "code",
   "execution_count": 8,
   "id": "905a3838",
   "metadata": {},
   "outputs": [],
   "source": [
    "def from_dob_to_age(purchase_date):\n",
    "    today = datetime.date.today()\n",
    "    if (purchase_date.year > today.year):\n",
    "        return today.year - (purchase_date.year-100) - ((today.month, today.day) < (purchase_date.month, purchase_date.day))\n",
    "    return today.year - purchase_date.year - ((today.month, today.day) < (purchase_date.month, purchase_date.day))"
   ]
  },
  {
   "cell_type": "code",
   "execution_count": 9,
   "id": "2cecb807",
   "metadata": {},
   "outputs": [],
   "source": [
    "car_kick['PurchAge'] = car_kick['PurchDate'].apply(lambda x: from_dob_to_age(x))"
   ]
  },
  {
   "cell_type": "code",
   "execution_count": 10,
   "id": "d629db74",
   "metadata": {},
   "outputs": [
    {
     "data": {
      "text/html": [
       "<div>\n",
       "<style scoped>\n",
       "    .dataframe tbody tr th:only-of-type {\n",
       "        vertical-align: middle;\n",
       "    }\n",
       "\n",
       "    .dataframe tbody tr th {\n",
       "        vertical-align: top;\n",
       "    }\n",
       "\n",
       "    .dataframe thead th {\n",
       "        text-align: right;\n",
       "    }\n",
       "</style>\n",
       "<table border=\"1\" class=\"dataframe\">\n",
       "  <thead>\n",
       "    <tr style=\"text-align: right;\">\n",
       "      <th></th>\n",
       "      <th>PurchDate</th>\n",
       "      <th>VehYear</th>\n",
       "      <th>VehicleAge</th>\n",
       "      <th>VehOdo</th>\n",
       "      <th>MMRAcquisitionAuctionAveragePrice</th>\n",
       "      <th>MMRAcquisitionAuctionCleanPrice</th>\n",
       "      <th>MMRAcquisitionRetailAveragePrice</th>\n",
       "      <th>MMRAcquisitonRetailCleanPrice</th>\n",
       "      <th>MMRCurrentAuctionAveragePrice</th>\n",
       "      <th>MMRCurrentAuctionCleanPrice</th>\n",
       "      <th>...</th>\n",
       "      <th>WheelType</th>\n",
       "      <th>Nationality</th>\n",
       "      <th>Size</th>\n",
       "      <th>TopThreeAmericanName</th>\n",
       "      <th>BYRNO</th>\n",
       "      <th>VNZIP1</th>\n",
       "      <th>VNST</th>\n",
       "      <th>IsOnlineSale</th>\n",
       "      <th>Class</th>\n",
       "      <th>PurchAge</th>\n",
       "    </tr>\n",
       "  </thead>\n",
       "  <tbody>\n",
       "    <tr>\n",
       "      <th>0</th>\n",
       "      <td>1970-01-01 00:00:01.289952000</td>\n",
       "      <td>2006.0</td>\n",
       "      <td>4</td>\n",
       "      <td>51954.0</td>\n",
       "      <td>6197.0</td>\n",
       "      <td>7062.0</td>\n",
       "      <td>9605.0</td>\n",
       "      <td>10426.0</td>\n",
       "      <td>5341.0</td>\n",
       "      <td>6351.0</td>\n",
       "      <td>...</td>\n",
       "      <td>Covers</td>\n",
       "      <td>AMERICAN</td>\n",
       "      <td>MEDIUM</td>\n",
       "      <td>CHRYSLER</td>\n",
       "      <td>99750</td>\n",
       "      <td>32124</td>\n",
       "      <td>FL</td>\n",
       "      <td>0</td>\n",
       "      <td>0</td>\n",
       "      <td>53</td>\n",
       "    </tr>\n",
       "    <tr>\n",
       "      <th>1</th>\n",
       "      <td>1970-01-01 00:00:01.242691200</td>\n",
       "      <td>2005.0</td>\n",
       "      <td>4</td>\n",
       "      <td>89127.0</td>\n",
       "      <td>3688.0</td>\n",
       "      <td>4783.0</td>\n",
       "      <td>4483.0</td>\n",
       "      <td>5666.0</td>\n",
       "      <td>3688.0</td>\n",
       "      <td>4783.0</td>\n",
       "      <td>...</td>\n",
       "      <td>Covers</td>\n",
       "      <td>AMERICAN</td>\n",
       "      <td>MEDIUM</td>\n",
       "      <td>FORD</td>\n",
       "      <td>20833</td>\n",
       "      <td>78754</td>\n",
       "      <td>TX</td>\n",
       "      <td>0</td>\n",
       "      <td>0</td>\n",
       "      <td>53</td>\n",
       "    </tr>\n",
       "    <tr>\n",
       "      <th>2</th>\n",
       "      <td>1970-01-01 00:00:01.248220800</td>\n",
       "      <td>2006.0</td>\n",
       "      <td>3</td>\n",
       "      <td>71271.0</td>\n",
       "      <td>6897.0</td>\n",
       "      <td>8449.0</td>\n",
       "      <td>7949.0</td>\n",
       "      <td>9625.0</td>\n",
       "      <td>6868.0</td>\n",
       "      <td>8549.0</td>\n",
       "      <td>...</td>\n",
       "      <td>Alloy</td>\n",
       "      <td>AMERICAN</td>\n",
       "      <td>LARGE</td>\n",
       "      <td>GM</td>\n",
       "      <td>22916</td>\n",
       "      <td>80011</td>\n",
       "      <td>CO</td>\n",
       "      <td>0</td>\n",
       "      <td>0</td>\n",
       "      <td>53</td>\n",
       "    </tr>\n",
       "    <tr>\n",
       "      <th>3</th>\n",
       "      <td>1970-01-01 00:00:01.285718400</td>\n",
       "      <td>2008.0</td>\n",
       "      <td>2</td>\n",
       "      <td>83338.0</td>\n",
       "      <td>7878.0</td>\n",
       "      <td>8925.0</td>\n",
       "      <td>11723.0</td>\n",
       "      <td>13026.0</td>\n",
       "      <td>7801.0</td>\n",
       "      <td>8704.0</td>\n",
       "      <td>...</td>\n",
       "      <td>Covers</td>\n",
       "      <td>AMERICAN</td>\n",
       "      <td>LARGE</td>\n",
       "      <td>GM</td>\n",
       "      <td>23657</td>\n",
       "      <td>94544</td>\n",
       "      <td>CA</td>\n",
       "      <td>0</td>\n",
       "      <td>0</td>\n",
       "      <td>53</td>\n",
       "    </tr>\n",
       "    <tr>\n",
       "      <th>4</th>\n",
       "      <td>1970-01-01 00:00:01.237334400</td>\n",
       "      <td>2007.0</td>\n",
       "      <td>2</td>\n",
       "      <td>58698.0</td>\n",
       "      <td>8800.0</td>\n",
       "      <td>10091.0</td>\n",
       "      <td>10004.0</td>\n",
       "      <td>11398.0</td>\n",
       "      <td>7355.0</td>\n",
       "      <td>8543.0</td>\n",
       "      <td>...</td>\n",
       "      <td>Alloy</td>\n",
       "      <td>AMERICAN</td>\n",
       "      <td>LARGE</td>\n",
       "      <td>GM</td>\n",
       "      <td>20833</td>\n",
       "      <td>77086</td>\n",
       "      <td>TX</td>\n",
       "      <td>0</td>\n",
       "      <td>0</td>\n",
       "      <td>53</td>\n",
       "    </tr>\n",
       "  </tbody>\n",
       "</table>\n",
       "<p>5 rows × 32 columns</p>\n",
       "</div>"
      ],
      "text/plain": [
       "                      PurchDate  VehYear  VehicleAge   VehOdo  \\\n",
       "0 1970-01-01 00:00:01.289952000   2006.0           4  51954.0   \n",
       "1 1970-01-01 00:00:01.242691200   2005.0           4  89127.0   \n",
       "2 1970-01-01 00:00:01.248220800   2006.0           3  71271.0   \n",
       "3 1970-01-01 00:00:01.285718400   2008.0           2  83338.0   \n",
       "4 1970-01-01 00:00:01.237334400   2007.0           2  58698.0   \n",
       "\n",
       "   MMRAcquisitionAuctionAveragePrice  MMRAcquisitionAuctionCleanPrice  \\\n",
       "0                             6197.0                           7062.0   \n",
       "1                             3688.0                           4783.0   \n",
       "2                             6897.0                           8449.0   \n",
       "3                             7878.0                           8925.0   \n",
       "4                             8800.0                          10091.0   \n",
       "\n",
       "   MMRAcquisitionRetailAveragePrice  MMRAcquisitonRetailCleanPrice  \\\n",
       "0                            9605.0                        10426.0   \n",
       "1                            4483.0                         5666.0   \n",
       "2                            7949.0                         9625.0   \n",
       "3                           11723.0                        13026.0   \n",
       "4                           10004.0                        11398.0   \n",
       "\n",
       "   MMRCurrentAuctionAveragePrice  MMRCurrentAuctionCleanPrice  ...  WheelType  \\\n",
       "0                         5341.0                       6351.0  ...     Covers   \n",
       "1                         3688.0                       4783.0  ...     Covers   \n",
       "2                         6868.0                       8549.0  ...      Alloy   \n",
       "3                         7801.0                       8704.0  ...     Covers   \n",
       "4                         7355.0                       8543.0  ...      Alloy   \n",
       "\n",
       "   Nationality    Size  TopThreeAmericanName  BYRNO VNZIP1 VNST IsOnlineSale  \\\n",
       "0     AMERICAN  MEDIUM              CHRYSLER  99750  32124   FL            0   \n",
       "1     AMERICAN  MEDIUM                  FORD  20833  78754   TX            0   \n",
       "2     AMERICAN   LARGE                    GM  22916  80011   CO            0   \n",
       "3     AMERICAN   LARGE                    GM  23657  94544   CA            0   \n",
       "4     AMERICAN   LARGE                    GM  20833  77086   TX            0   \n",
       "\n",
       "  Class PurchAge  \n",
       "0     0       53  \n",
       "1     0       53  \n",
       "2     0       53  \n",
       "3     0       53  \n",
       "4     0       53  \n",
       "\n",
       "[5 rows x 32 columns]"
      ]
     },
     "execution_count": 10,
     "metadata": {},
     "output_type": "execute_result"
    }
   ],
   "source": [
    "car_kick.head()"
   ]
  },
  {
   "cell_type": "code",
   "execution_count": 11,
   "id": "9c2754ec",
   "metadata": {},
   "outputs": [],
   "source": [
    "#I'll drop the values beacuse they are irrelevant now\n",
    "car_kick = car_kick.drop(['PurchDate'], axis=1)"
   ]
  },
  {
   "cell_type": "code",
   "execution_count": 12,
   "id": "f0637fa2",
   "metadata": {},
   "outputs": [
    {
     "data": {
      "text/plain": [
       "array([53])"
      ]
     },
     "execution_count": 12,
     "metadata": {},
     "output_type": "execute_result"
    }
   ],
   "source": [
    "car_kick['PurchAge'].unique()"
   ]
  },
  {
   "cell_type": "code",
   "execution_count": 13,
   "id": "7e4c9e68",
   "metadata": {},
   "outputs": [],
   "source": [
    "#We can drop the value, because all data if from the same year\n",
    "#I'll drop the values beacuse they are irrelevant now\n",
    "car_kick = car_kick.drop(['PurchAge'], axis=1)"
   ]
  },
  {
   "cell_type": "markdown",
   "id": "966a5c5e",
   "metadata": {},
   "source": [
    "# VehYear - Year the car was produced"
   ]
  },
  {
   "cell_type": "code",
   "execution_count": 14,
   "id": "59e7bb66",
   "metadata": {},
   "outputs": [
    {
     "name": "stdout",
     "output_type": "stream",
     "text": [
      "<class 'numpy.float64'>\n",
      "2006.0\n"
     ]
    }
   ],
   "source": [
    "print(type(car_kick.VehYear[0]))\n",
    "print(car_kick.VehYear[0])"
   ]
  },
  {
   "cell_type": "code",
   "execution_count": 15,
   "id": "4de12c93",
   "metadata": {},
   "outputs": [],
   "source": [
    "def distplot_mean_median(column, title = \"\"):\n",
    "    \n",
    "    mean=column.mean()\n",
    "    median=column.median()\n",
    "    #mode=column.mode().get_values()[0]\n",
    "    fig = plt.figure(figsize=(5,1))\n",
    "    ax = fig.add_subplot(111)\n",
    "    sns.boxplot(column)\n",
    "    plt.axvline(mean, color='r', linestyle='--')\n",
    "    plt.axvline(median, color='b', linestyle='-')\n",
    "    #ax_box.axvline(mode, color='b', linestyle='-')\n",
    "    \n",
    "    fig = plt.figure(figsize=(20,8))\n",
    "    ax = fig.add_subplot(111)\n",
    "    #ax.set_facecolor((0,0,0.10))\n",
    "    s = sns.distplot(column)\n",
    "    plt.axvline(mean, color='red', linewidth=1.5, label=\"mean\")\n",
    "    plt.axvline(median, color='blue', linewidth=1.5, label=\"median\")\n",
    "    plt.legend(loc='upper right', prop={'size': 20})\n",
    "    plt.title(title)\n",
    "    plt.show()"
   ]
  },
  {
   "cell_type": "code",
   "execution_count": 16,
   "id": "a8cb3e6a",
   "metadata": {},
   "outputs": [
    {
     "name": "stderr",
     "output_type": "stream",
     "text": [
      "/opt/anaconda3/lib/python3.9/site-packages/seaborn/_decorators.py:36: FutureWarning: Pass the following variable as a keyword arg: x. From version 0.12, the only valid positional argument will be `data`, and passing other arguments without an explicit keyword will result in an error or misinterpretation.\n",
      "  warnings.warn(\n",
      "/opt/anaconda3/lib/python3.9/site-packages/seaborn/distributions.py:2619: FutureWarning: `distplot` is a deprecated function and will be removed in a future version. Please adapt your code to use either `displot` (a figure-level function with similar flexibility) or `histplot` (an axes-level function for histograms).\n",
      "  warnings.warn(msg, FutureWarning)\n"
     ]
    },
    {
     "data": {
      "image/png": "[encoded data removed]",
      "text/plain": [
       "<Figure size 500x100 with 1 Axes>"
      ]
     },
     "metadata": {},
     "output_type": "display_data"
    },
    {
     "data": {
      "image/png": "[encoded data removed]",
      "text/plain": [
       "<Figure size 2000x800 with 1 Axes>"
      ]
     },
     "metadata": {},
     "output_type": "display_data"
    }
   ],
   "source": [
    "car_kick['VehYear'] = car_kick['VehYear'].astype(int)\n",
    "distplot_mean_median(column=car_kick['VehYear'], title=\"Year of production\")"
   ]
  },
  {
   "cell_type": "code",
   "execution_count": 17,
   "id": "180b6da4",
   "metadata": {},
   "outputs": [],
   "source": [
    "#I will change the date to age of the car\n",
    "car_kick['VehAge'] = car_kick['VehYear'].apply(lambda x: int(datetime.date.today().year) - x)"
   ]
  },
  {
   "cell_type": "code",
   "execution_count": 18,
   "id": "3b22da8f",
   "metadata": {},
   "outputs": [],
   "source": [
    "#And I will drop no longer needed cathegory\n",
    "car_kick = car_kick.drop(['VehYear'], axis=1)"
   ]
  },
  {
   "cell_type": "code",
   "execution_count": 19,
   "id": "37982abc",
   "metadata": {},
   "outputs": [],
   "source": [
    "# VehicleAge - Age of the car"
   ]
  },
  {
   "cell_type": "code",
   "execution_count": 22,
   "id": "cf4fca74",
   "metadata": {},
   "outputs": [
    {
     "data": {
      "text/html": [
       "<div>\n",
       "<style scoped>\n",
       "    .dataframe tbody tr th:only-of-type {\n",
       "        vertical-align: middle;\n",
       "    }\n",
       "\n",
       "    .dataframe tbody tr th {\n",
       "        vertical-align: top;\n",
       "    }\n",
       "\n",
       "    .dataframe thead th {\n",
       "        text-align: right;\n",
       "    }\n",
       "</style>\n",
       "<table border=\"1\" class=\"dataframe\">\n",
       "  <thead>\n",
       "    <tr style=\"text-align: right;\">\n",
       "      <th></th>\n",
       "      <th>VehicleAge</th>\n",
       "      <th>VehOdo</th>\n",
       "      <th>MMRAcquisitionAuctionAveragePrice</th>\n",
       "      <th>MMRAcquisitionAuctionCleanPrice</th>\n",
       "      <th>MMRAcquisitionRetailAveragePrice</th>\n",
       "      <th>MMRAcquisitonRetailCleanPrice</th>\n",
       "      <th>MMRCurrentAuctionAveragePrice</th>\n",
       "      <th>MMRCurrentAuctionCleanPrice</th>\n",
       "      <th>MMRCurrentRetailAveragePrice</th>\n",
       "      <th>MMRCurrentRetailCleanPrice</th>\n",
       "      <th>...</th>\n",
       "      <th>WheelType</th>\n",
       "      <th>Nationality</th>\n",
       "      <th>Size</th>\n",
       "      <th>TopThreeAmericanName</th>\n",
       "      <th>BYRNO</th>\n",
       "      <th>VNZIP1</th>\n",
       "      <th>VNST</th>\n",
       "      <th>IsOnlineSale</th>\n",
       "      <th>Class</th>\n",
       "      <th>VehAge</th>\n",
       "    </tr>\n",
       "  </thead>\n",
       "  <tbody>\n",
       "    <tr>\n",
       "      <th>0</th>\n",
       "      <td>4</td>\n",
       "      <td>51954.0</td>\n",
       "      <td>6197.0</td>\n",
       "      <td>7062.0</td>\n",
       "      <td>9605.0</td>\n",
       "      <td>10426.0</td>\n",
       "      <td>5341.0</td>\n",
       "      <td>6351.0</td>\n",
       "      <td>8513.0</td>\n",
       "      <td>9822.0</td>\n",
       "      <td>...</td>\n",
       "      <td>Covers</td>\n",
       "      <td>AMERICAN</td>\n",
       "      <td>MEDIUM</td>\n",
       "      <td>CHRYSLER</td>\n",
       "      <td>99750</td>\n",
       "      <td>32124</td>\n",
       "      <td>FL</td>\n",
       "      <td>0</td>\n",
       "      <td>0</td>\n",
       "      <td>17</td>\n",
       "    </tr>\n",
       "    <tr>\n",
       "      <th>1</th>\n",
       "      <td>4</td>\n",
       "      <td>89127.0</td>\n",
       "      <td>3688.0</td>\n",
       "      <td>4783.0</td>\n",
       "      <td>4483.0</td>\n",
       "      <td>5666.0</td>\n",
       "      <td>3688.0</td>\n",
       "      <td>4783.0</td>\n",
       "      <td>4483.0</td>\n",
       "      <td>5666.0</td>\n",
       "      <td>...</td>\n",
       "      <td>Covers</td>\n",
       "      <td>AMERICAN</td>\n",
       "      <td>MEDIUM</td>\n",
       "      <td>FORD</td>\n",
       "      <td>20833</td>\n",
       "      <td>78754</td>\n",
       "      <td>TX</td>\n",
       "      <td>0</td>\n",
       "      <td>0</td>\n",
       "      <td>18</td>\n",
       "    </tr>\n",
       "    <tr>\n",
       "      <th>2</th>\n",
       "      <td>3</td>\n",
       "      <td>71271.0</td>\n",
       "      <td>6897.0</td>\n",
       "      <td>8449.0</td>\n",
       "      <td>7949.0</td>\n",
       "      <td>9625.0</td>\n",
       "      <td>6868.0</td>\n",
       "      <td>8549.0</td>\n",
       "      <td>7917.0</td>\n",
       "      <td>9733.0</td>\n",
       "      <td>...</td>\n",
       "      <td>Alloy</td>\n",
       "      <td>AMERICAN</td>\n",
       "      <td>LARGE</td>\n",
       "      <td>GM</td>\n",
       "      <td>22916</td>\n",
       "      <td>80011</td>\n",
       "      <td>CO</td>\n",
       "      <td>0</td>\n",
       "      <td>0</td>\n",
       "      <td>17</td>\n",
       "    </tr>\n",
       "    <tr>\n",
       "      <th>3</th>\n",
       "      <td>2</td>\n",
       "      <td>83338.0</td>\n",
       "      <td>7878.0</td>\n",
       "      <td>8925.0</td>\n",
       "      <td>11723.0</td>\n",
       "      <td>13026.0</td>\n",
       "      <td>7801.0</td>\n",
       "      <td>8704.0</td>\n",
       "      <td>11995.0</td>\n",
       "      <td>12901.0</td>\n",
       "      <td>...</td>\n",
       "      <td>Covers</td>\n",
       "      <td>AMERICAN</td>\n",
       "      <td>LARGE</td>\n",
       "      <td>GM</td>\n",
       "      <td>23657</td>\n",
       "      <td>94544</td>\n",
       "      <td>CA</td>\n",
       "      <td>0</td>\n",
       "      <td>0</td>\n",
       "      <td>15</td>\n",
       "    </tr>\n",
       "    <tr>\n",
       "      <th>4</th>\n",
       "      <td>2</td>\n",
       "      <td>58698.0</td>\n",
       "      <td>8800.0</td>\n",
       "      <td>10091.0</td>\n",
       "      <td>10004.0</td>\n",
       "      <td>11398.0</td>\n",
       "      <td>7355.0</td>\n",
       "      <td>8543.0</td>\n",
       "      <td>8443.0</td>\n",
       "      <td>9726.0</td>\n",
       "      <td>...</td>\n",
       "      <td>Alloy</td>\n",
       "      <td>AMERICAN</td>\n",
       "      <td>LARGE</td>\n",
       "      <td>GM</td>\n",
       "      <td>20833</td>\n",
       "      <td>77086</td>\n",
       "      <td>TX</td>\n",
       "      <td>0</td>\n",
       "      <td>0</td>\n",
       "      <td>16</td>\n",
       "    </tr>\n",
       "  </tbody>\n",
       "</table>\n",
       "<p>5 rows × 30 columns</p>\n",
       "</div>"
      ],
      "text/plain": [
       "   VehicleAge   VehOdo  MMRAcquisitionAuctionAveragePrice  \\\n",
       "0           4  51954.0                             6197.0   \n",
       "1           4  89127.0                             3688.0   \n",
       "2           3  71271.0                             6897.0   \n",
       "3           2  83338.0                             7878.0   \n",
       "4           2  58698.0                             8800.0   \n",
       "\n",
       "   MMRAcquisitionAuctionCleanPrice  MMRAcquisitionRetailAveragePrice  \\\n",
       "0                           7062.0                            9605.0   \n",
       "1                           4783.0                            4483.0   \n",
       "2                           8449.0                            7949.0   \n",
       "3                           8925.0                           11723.0   \n",
       "4                          10091.0                           10004.0   \n",
       "\n",
       "   MMRAcquisitonRetailCleanPrice  MMRCurrentAuctionAveragePrice  \\\n",
       "0                        10426.0                         5341.0   \n",
       "1                         5666.0                         3688.0   \n",
       "2                         9625.0                         6868.0   \n",
       "3                        13026.0                         7801.0   \n",
       "4                        11398.0                         7355.0   \n",
       "\n",
       "   MMRCurrentAuctionCleanPrice  MMRCurrentRetailAveragePrice  \\\n",
       "0                       6351.0                        8513.0   \n",
       "1                       4783.0                        4483.0   \n",
       "2                       8549.0                        7917.0   \n",
       "3                       8704.0                       11995.0   \n",
       "4                       8543.0                        8443.0   \n",
       "\n",
       "   MMRCurrentRetailCleanPrice  ...  WheelType  Nationality    Size  \\\n",
       "0                      9822.0  ...     Covers     AMERICAN  MEDIUM   \n",
       "1                      5666.0  ...     Covers     AMERICAN  MEDIUM   \n",
       "2                      9733.0  ...      Alloy     AMERICAN   LARGE   \n",
       "3                     12901.0  ...     Covers     AMERICAN   LARGE   \n",
       "4                      9726.0  ...      Alloy     AMERICAN   LARGE   \n",
       "\n",
       "  TopThreeAmericanName  BYRNO VNZIP1 VNST IsOnlineSale Class  VehAge  \n",
       "0             CHRYSLER  99750  32124   FL            0     0      17  \n",
       "1                 FORD  20833  78754   TX            0     0      18  \n",
       "2                   GM  22916  80011   CO            0     0      17  \n",
       "3                   GM  23657  94544   CA            0     0      15  \n",
       "4                   GM  20833  77086   TX            0     0      16  \n",
       "\n",
       "[5 rows x 30 columns]"
      ]
     },
     "execution_count": 22,
     "metadata": {},
     "output_type": "execute_result"
    }
   ],
   "source": [
    "car_kick.head()"
   ]
  },
  {
   "cell_type": "code",
   "execution_count": 21,
   "id": "1c176a1e",
   "metadata": {},
   "outputs": [
    {
     "data": {
      "text/html": [
       "<div>\n",
       "<style scoped>\n",
       "    .dataframe tbody tr th:only-of-type {\n",
       "        vertical-align: middle;\n",
       "    }\n",
       "\n",
       "    .dataframe tbody tr th {\n",
       "        vertical-align: top;\n",
       "    }\n",
       "\n",
       "    .dataframe thead th {\n",
       "        text-align: right;\n",
       "    }\n",
       "</style>\n",
       "<table border=\"1\" class=\"dataframe\">\n",
       "  <thead>\n",
       "    <tr style=\"text-align: right;\">\n",
       "      <th></th>\n",
       "      <th>VehAge</th>\n",
       "      <th>VehicleAge</th>\n",
       "    </tr>\n",
       "  </thead>\n",
       "  <tbody>\n",
       "    <tr>\n",
       "      <th>0</th>\n",
       "      <td>17</td>\n",
       "      <td>4</td>\n",
       "    </tr>\n",
       "    <tr>\n",
       "      <th>1</th>\n",
       "      <td>18</td>\n",
       "      <td>4</td>\n",
       "    </tr>\n",
       "    <tr>\n",
       "      <th>2</th>\n",
       "      <td>17</td>\n",
       "      <td>3</td>\n",
       "    </tr>\n",
       "    <tr>\n",
       "      <th>3</th>\n",
       "      <td>15</td>\n",
       "      <td>2</td>\n",
       "    </tr>\n",
       "    <tr>\n",
       "      <th>4</th>\n",
       "      <td>16</td>\n",
       "      <td>2</td>\n",
       "    </tr>\n",
       "    <tr>\n",
       "      <th>...</th>\n",
       "      <td>...</td>\n",
       "      <td>...</td>\n",
       "    </tr>\n",
       "    <tr>\n",
       "      <th>67206</th>\n",
       "      <td>15</td>\n",
       "      <td>2</td>\n",
       "    </tr>\n",
       "    <tr>\n",
       "      <th>67207</th>\n",
       "      <td>19</td>\n",
       "      <td>6</td>\n",
       "    </tr>\n",
       "    <tr>\n",
       "      <th>67208</th>\n",
       "      <td>19</td>\n",
       "      <td>6</td>\n",
       "    </tr>\n",
       "    <tr>\n",
       "      <th>67209</th>\n",
       "      <td>20</td>\n",
       "      <td>7</td>\n",
       "    </tr>\n",
       "    <tr>\n",
       "      <th>67210</th>\n",
       "      <td>19</td>\n",
       "      <td>6</td>\n",
       "    </tr>\n",
       "  </tbody>\n",
       "</table>\n",
       "<p>67211 rows × 2 columns</p>\n",
       "</div>"
      ],
      "text/plain": [
       "       VehAge  VehicleAge\n",
       "0          17           4\n",
       "1          18           4\n",
       "2          17           3\n",
       "3          15           2\n",
       "4          16           2\n",
       "...       ...         ...\n",
       "67206      15           2\n",
       "67207      19           6\n",
       "67208      19           6\n",
       "67209      20           7\n",
       "67210      19           6\n",
       "\n",
       "[67211 rows x 2 columns]"
      ]
     },
     "execution_count": 21,
     "metadata": {},
     "output_type": "execute_result"
    }
   ],
   "source": [
    "#check is Vehicle age equal to new category VehAge\n",
    "car_kick[['VehAge', 'VehicleAge']]"
   ]
  },
  {
   "cell_type": "markdown",
   "id": "c1622a9c",
   "metadata": {},
   "source": [
    "#### these dates don't match, it's good to keep that in mind"
   ]
  },
  {
   "cell_type": "markdown",
   "id": "0f05c66d",
   "metadata": {},
   "source": [
    "# VehOdo - How far the car has driven in km"
   ]
  },
  {
   "cell_type": "code",
   "execution_count": 24,
   "id": "fd387b5b",
   "metadata": {},
   "outputs": [
    {
     "name": "stderr",
     "output_type": "stream",
     "text": [
      "/opt/anaconda3/lib/python3.9/site-packages/seaborn/_decorators.py:36: FutureWarning: Pass the following variable as a keyword arg: x. From version 0.12, the only valid positional argument will be `data`, and passing other arguments without an explicit keyword will result in an error or misinterpretation.\n",
      "  warnings.warn(\n",
      "/opt/anaconda3/lib/python3.9/site-packages/seaborn/distributions.py:2619: FutureWarning: `distplot` is a deprecated function and will be removed in a future version. Please adapt your code to use either `displot` (a figure-level function with similar flexibility) or `histplot` (an axes-level function for histograms).\n",
      "  warnings.warn(msg, FutureWarning)\n"
     ]
    },
    {
     "data": {
      "image/png": "[encoded data removed]",
      "text/plain": [
       "<Figure size 500x100 with 1 Axes>"
      ]
     },
     "metadata": {},
     "output_type": "display_data"
    },
    {
     "data": {
      "image/png": "[encoded data removed]",
      "text/plain": [
       "<Figure size 2000x800 with 1 Axes>"
      ]
     },
     "metadata": {},
     "output_type": "display_data"
    }
   ],
   "source": [
    "car_kick['VehOdo'] = car_kick['VehOdo'].astype(int)\n",
    "distplot_mean_median(column=car_kick['VehOdo'], title=\"How far the car has driven in km\")"
   ]
  },
  {
   "cell_type": "code",
   "execution_count": null,
   "id": "cf0fdbc8",
   "metadata": {},
   "outputs": [],
   "source": [
    "# MMRAcquisitionAuctionAveragePrice - Price of the car when is was bought at auction, average"
   ]
  },
  {
   "cell_type": "code",
   "execution_count": null,
   "id": "35574749",
   "metadata": {},
   "outputs": [],
   "source": []
  },
  {
   "cell_type": "code",
   "execution_count": null,
   "id": "f586a078",
   "metadata": {},
   "outputs": [],
   "source": [
    "# MMRAcquisitionAuctionCleanPrice - Price of the car when it was bought at auction, before fees"
   ]
  },
  {
   "cell_type": "code",
   "execution_count": null,
   "id": "350b2eff",
   "metadata": {},
   "outputs": [],
   "source": []
  },
  {
   "cell_type": "code",
   "execution_count": null,
   "id": "abd5963c",
   "metadata": {},
   "outputs": [],
   "source": []
  },
  {
   "cell_type": "markdown",
   "id": "1c6aad16",
   "metadata": {},
   "source": [
    "# MMRAcquisitionRetailAveragePrice - Price of the car when is was bought in a retail store, average"
   ]
  },
  {
   "cell_type": "code",
   "execution_count": null,
   "id": "073e9f52",
   "metadata": {},
   "outputs": [],
   "source": []
  },
  {
   "cell_type": "code",
   "execution_count": null,
   "id": "0092678f",
   "metadata": {},
   "outputs": [],
   "source": [
    "# MMRAcquisitonRetailCleanPrice - Price of the car when is was bought in a retail store, before fees"
   ]
  },
  {
   "cell_type": "code",
   "execution_count": null,
   "id": "245185b4",
   "metadata": {},
   "outputs": [],
   "source": []
  },
  {
   "cell_type": "code",
   "execution_count": null,
   "id": "a51f9a35",
   "metadata": {},
   "outputs": [],
   "source": []
  },
  {
   "cell_type": "code",
   "execution_count": null,
   "id": "7e580dd5",
   "metadata": {},
   "outputs": [],
   "source": [
    "# MMRCurrentAuctionAveragePrice - Current price of the car at auction, average"
   ]
  },
  {
   "cell_type": "code",
   "execution_count": null,
   "id": "54b46238",
   "metadata": {},
   "outputs": [],
   "source": []
  },
  {
   "cell_type": "code",
   "execution_count": null,
   "id": "0666426b",
   "metadata": {},
   "outputs": [],
   "source": [
    "# MMRCurrentAuctionCleanPrice - Current price of the car at auction, before fees"
   ]
  },
  {
   "cell_type": "code",
   "execution_count": null,
   "id": "17369593",
   "metadata": {},
   "outputs": [],
   "source": []
  },
  {
   "cell_type": "code",
   "execution_count": null,
   "id": "9f5116b3",
   "metadata": {},
   "outputs": [],
   "source": [
    "# MMRCurrentRetailAveragePrice - Current price of the car at a retail store, average"
   ]
  },
  {
   "cell_type": "code",
   "execution_count": null,
   "id": "787f9974",
   "metadata": {},
   "outputs": [],
   "source": []
  },
  {
   "cell_type": "code",
   "execution_count": null,
   "id": "6c51f5d5",
   "metadata": {},
   "outputs": [],
   "source": [
    "# MMRCurrentRetailCleanPrice - Current price of the car at a retail store, before fees"
   ]
  },
  {
   "cell_type": "code",
   "execution_count": null,
   "id": "77bf1d60",
   "metadata": {},
   "outputs": [],
   "source": []
  },
  {
   "cell_type": "code",
   "execution_count": null,
   "id": "2837400e",
   "metadata": {},
   "outputs": [],
   "source": [
    "# VehBCost - B price of the car"
   ]
  },
  {
   "cell_type": "code",
   "execution_count": null,
   "id": "57a391b8",
   "metadata": {},
   "outputs": [],
   "source": []
  },
  {
   "cell_type": "code",
   "execution_count": null,
   "id": "bbd9e8d1",
   "metadata": {},
   "outputs": [],
   "source": [
    "# WarrantyCost - Cost of car warranty"
   ]
  },
  {
   "cell_type": "code",
   "execution_count": null,
   "id": "e3853b85",
   "metadata": {},
   "outputs": [],
   "source": []
  },
  {
   "cell_type": "code",
   "execution_count": null,
   "id": "3f5800bf",
   "metadata": {},
   "outputs": [],
   "source": [
    "# Auction - Location of auction"
   ]
  },
  {
   "cell_type": "code",
   "execution_count": null,
   "id": "b12fe048",
   "metadata": {},
   "outputs": [],
   "source": []
  },
  {
   "cell_type": "code",
   "execution_count": null,
   "id": "ea5c217a",
   "metadata": {},
   "outputs": [],
   "source": [
    "#Make - Producer of the car"
   ]
  },
  {
   "cell_type": "code",
   "execution_count": null,
   "id": "ac9b1268",
   "metadata": {},
   "outputs": [],
   "source": []
  },
  {
   "cell_type": "code",
   "execution_count": null,
   "id": "bbbac818",
   "metadata": {},
   "outputs": [],
   "source": [
    "#Model - Model of the car"
   ]
  },
  {
   "cell_type": "code",
   "execution_count": null,
   "id": "5ed1d4e1",
   "metadata": {},
   "outputs": [],
   "source": []
  },
  {
   "cell_type": "code",
   "execution_count": null,
   "id": "939d8669",
   "metadata": {},
   "outputs": [],
   "source": [
    "# Trim - Trim level of the car"
   ]
  },
  {
   "cell_type": "code",
   "execution_count": null,
   "id": "e9132962",
   "metadata": {},
   "outputs": [],
   "source": []
  },
  {
   "cell_type": "code",
   "execution_count": null,
   "id": "b7f19889",
   "metadata": {},
   "outputs": [],
   "source": [
    "# SubModel - Submodel of the car"
   ]
  },
  {
   "cell_type": "code",
   "execution_count": null,
   "id": "2f588bc4",
   "metadata": {},
   "outputs": [],
   "source": []
  },
  {
   "cell_type": "code",
   "execution_count": null,
   "id": "6ce9cd09",
   "metadata": {},
   "outputs": [],
   "source": [
    "# Color - Color of the car"
   ]
  },
  {
   "cell_type": "code",
   "execution_count": null,
   "id": "77a156e5",
   "metadata": {},
   "outputs": [],
   "source": []
  },
  {
   "cell_type": "code",
   "execution_count": null,
   "id": "ed5075a7",
   "metadata": {},
   "outputs": [],
   "source": [
    "# Transmission - Type of transmission in the car"
   ]
  },
  {
   "cell_type": "code",
   "execution_count": null,
   "id": "fd8aa3c1",
   "metadata": {},
   "outputs": [],
   "source": []
  },
  {
   "cell_type": "code",
   "execution_count": null,
   "id": "a886b6ee",
   "metadata": {},
   "outputs": [],
   "source": [
    "# WheelTypeID - ID of the wheelID"
   ]
  },
  {
   "cell_type": "code",
   "execution_count": null,
   "id": "a05f8f4c",
   "metadata": {},
   "outputs": [],
   "source": []
  },
  {
   "cell_type": "code",
   "execution_count": null,
   "id": "45925ac7",
   "metadata": {},
   "outputs": [],
   "source": [
    "# WheelType - Type of wheel"
   ]
  },
  {
   "cell_type": "code",
   "execution_count": null,
   "id": "94da5b40",
   "metadata": {},
   "outputs": [],
   "source": []
  },
  {
   "cell_type": "code",
   "execution_count": null,
   "id": "7a0fdb4c",
   "metadata": {},
   "outputs": [],
   "source": []
  },
  {
   "cell_type": "code",
   "execution_count": null,
   "id": "8ff8064f",
   "metadata": {},
   "outputs": [],
   "source": [
    "# Nationality - Nationality of the car"
   ]
  },
  {
   "cell_type": "code",
   "execution_count": null,
   "id": "23a6cd80",
   "metadata": {},
   "outputs": [],
   "source": []
  },
  {
   "cell_type": "code",
   "execution_count": null,
   "id": "d5f8d3dc",
   "metadata": {},
   "outputs": [],
   "source": [
    "# Size - Size of the car"
   ]
  },
  {
   "cell_type": "code",
   "execution_count": null,
   "id": "c35ce1bf",
   "metadata": {},
   "outputs": [],
   "source": []
  },
  {
   "cell_type": "code",
   "execution_count": null,
   "id": "e0697ecc",
   "metadata": {},
   "outputs": [],
   "source": [
    "# TopThreeAmericanName -Whether the car is from one of the three largest manufacturers in America"
   ]
  },
  {
   "cell_type": "code",
   "execution_count": null,
   "id": "4a8b8009",
   "metadata": {},
   "outputs": [],
   "source": []
  },
  {
   "cell_type": "code",
   "execution_count": null,
   "id": "a7aba665",
   "metadata": {},
   "outputs": [],
   "source": [
    "# BYRNO -Car registration number"
   ]
  },
  {
   "cell_type": "code",
   "execution_count": null,
   "id": "3af2d418",
   "metadata": {},
   "outputs": [],
   "source": []
  },
  {
   "cell_type": "code",
   "execution_count": null,
   "id": "22557bf1",
   "metadata": {},
   "outputs": [],
   "source": [
    "# VNZIP1 - Car ZIP number"
   ]
  },
  {
   "cell_type": "code",
   "execution_count": null,
   "id": "45c8aebf",
   "metadata": {},
   "outputs": [],
   "source": []
  },
  {
   "cell_type": "code",
   "execution_count": null,
   "id": "d9b4574b",
   "metadata": {},
   "outputs": [],
   "source": [
    "# VNST - Car navigation system"
   ]
  },
  {
   "cell_type": "code",
   "execution_count": null,
   "id": "118c7584",
   "metadata": {},
   "outputs": [],
   "source": []
  },
  {
   "cell_type": "code",
   "execution_count": null,
   "id": "d9fee14c",
   "metadata": {},
   "outputs": [],
   "source": [
    "# IsOnlineSale - Whether the sale was online or not"
   ]
  },
  {
   "cell_type": "code",
   "execution_count": null,
   "id": "3e8fcfe4",
   "metadata": {},
   "outputs": [],
   "source": []
  }
 ],
 "metadata": {
  "kernelspec": {
   "display_name": "Python 3 (ipykernel)",
   "language": "python",
   "name": "python3"
  },
  "language_info": {
   "codemirror_mode": {
    "name": "ipython",
    "version": 3
   },
   "file_extension": ".py",
   "mimetype": "text/x-python",
   "name": "python",
   "nbconvert_exporter": "python",
   "pygments_lexer": "ipython3",
   "version": "3.9.13"
  }
 },
 "nbformat": 4,
 "nbformat_minor": 5
}
